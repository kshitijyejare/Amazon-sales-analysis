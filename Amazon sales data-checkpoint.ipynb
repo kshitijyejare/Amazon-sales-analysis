{
 "cells": [
  {
   "cell_type": "markdown",
   "id": "0f9ae983-6c45-4f36-bf30-b4226c44341e",
   "metadata": {},
   "source": [
    "Amazon sales data EDA by Kshitij"
   ]
  },
  {
   "cell_type": "code",
   "execution_count": 1,
   "id": "f2d726c8-5e7e-4cba-92a8-a8962a0be428",
   "metadata": {},
   "outputs": [],
   "source": [
    "import numpy as np\n",
    "import pandas as pd\n",
    "import seaborn as sns\n",
    "import matplotlib.pyplot as plt"
   ]
  },
  {
   "cell_type": "markdown",
   "id": "3425ae28-0f4a-43f1-882c-3f54e0d5c2ac",
   "metadata": {},
   "source": [
    "Import CSV"
   ]
  },
  {
   "cell_type": "code",
   "execution_count": 2,
   "id": "5320197b-43d6-4a57-9fad-f3d72089d89d",
   "metadata": {},
   "outputs": [
    {
     "name": "stderr",
     "output_type": "stream",
     "text": [
      "C:\\Users\\Kshitij\\AppData\\Local\\Temp\\ipykernel_9560\\3360398455.py:1: DtypeWarning: Columns (21) have mixed types. Specify dtype option on import or set low_memory=False.\n",
      "  Salesdata = pd.read_csv('Salesdata.csv')\n"
     ]
    },
    {
     "data": {
      "text/html": [
       "<div>\n",
       "<style scoped>\n",
       "    .dataframe tbody tr th:only-of-type {\n",
       "        vertical-align: middle;\n",
       "    }\n",
       "\n",
       "    .dataframe tbody tr th {\n",
       "        vertical-align: top;\n",
       "    }\n",
       "\n",
       "    .dataframe thead th {\n",
       "        text-align: right;\n",
       "    }\n",
       "</style>\n",
       "<table border=\"1\" class=\"dataframe\">\n",
       "  <thead>\n",
       "    <tr style=\"text-align: right;\">\n",
       "      <th></th>\n",
       "      <th>CustKey</th>\n",
       "      <th>DateKey</th>\n",
       "      <th>Discount Amount</th>\n",
       "      <th>Invoice Date</th>\n",
       "      <th>Invoice Number</th>\n",
       "      <th>Item Class</th>\n",
       "      <th>Item Number</th>\n",
       "      <th>Item</th>\n",
       "      <th>Line Number</th>\n",
       "      <th>List Price</th>\n",
       "      <th>...</th>\n",
       "      <th>Sales Cost Amount</th>\n",
       "      <th>Sales Margin Amount</th>\n",
       "      <th>Sales Price</th>\n",
       "      <th>Sales Quantity</th>\n",
       "      <th>Sales Rep</th>\n",
       "      <th>U/M</th>\n",
       "      <th>Unnamed: 20</th>\n",
       "      <th>Unnamed: 21</th>\n",
       "      <th>Unnamed: 22</th>\n",
       "      <th>Unnamed: 23</th>\n",
       "    </tr>\n",
       "  </thead>\n",
       "  <tbody>\n",
       "    <tr>\n",
       "      <th>0</th>\n",
       "      <td>10000481.0</td>\n",
       "      <td>30-04-2017</td>\n",
       "      <td>-237.91</td>\n",
       "      <td>2017-04-30</td>\n",
       "      <td>100012.0</td>\n",
       "      <td>NaN</td>\n",
       "      <td>NaN</td>\n",
       "      <td>Urban Large Eggs</td>\n",
       "      <td>2000.0</td>\n",
       "      <td>0.00</td>\n",
       "      <td>...</td>\n",
       "      <td>0.0</td>\n",
       "      <td>237.91</td>\n",
       "      <td>237.910000</td>\n",
       "      <td>1.0</td>\n",
       "      <td>184.0</td>\n",
       "      <td>EA</td>\n",
       "      <td>NaN</td>\n",
       "      <td>U/M = unit of measure</td>\n",
       "      <td>NaN</td>\n",
       "      <td>NaN</td>\n",
       "    </tr>\n",
       "    <tr>\n",
       "      <th>1</th>\n",
       "      <td>10002220.0</td>\n",
       "      <td>14-07-2017</td>\n",
       "      <td>368.79</td>\n",
       "      <td>2017-07-14</td>\n",
       "      <td>100233.0</td>\n",
       "      <td>P01</td>\n",
       "      <td>20910</td>\n",
       "      <td>Moms Sliced Turkey</td>\n",
       "      <td>1000.0</td>\n",
       "      <td>824.96</td>\n",
       "      <td>...</td>\n",
       "      <td>0.0</td>\n",
       "      <td>456.17</td>\n",
       "      <td>456.170000</td>\n",
       "      <td>1.0</td>\n",
       "      <td>127.0</td>\n",
       "      <td>EA</td>\n",
       "      <td>NaN</td>\n",
       "      <td>NaN</td>\n",
       "      <td>NaN</td>\n",
       "      <td>NaN</td>\n",
       "    </tr>\n",
       "    <tr>\n",
       "      <th>2</th>\n",
       "      <td>10002220.0</td>\n",
       "      <td>17-10-2017</td>\n",
       "      <td>109.73</td>\n",
       "      <td>2017-10-17</td>\n",
       "      <td>116165.0</td>\n",
       "      <td>P01</td>\n",
       "      <td>38076</td>\n",
       "      <td>Cutting Edge Foot-Long Hot Dogs</td>\n",
       "      <td>1000.0</td>\n",
       "      <td>548.66</td>\n",
       "      <td>...</td>\n",
       "      <td>0.0</td>\n",
       "      <td>438.93</td>\n",
       "      <td>438.930000</td>\n",
       "      <td>1.0</td>\n",
       "      <td>127.0</td>\n",
       "      <td>EA</td>\n",
       "      <td>NaN</td>\n",
       "      <td>EA = each</td>\n",
       "      <td>NaN</td>\n",
       "      <td>NaN</td>\n",
       "    </tr>\n",
       "    <tr>\n",
       "      <th>3</th>\n",
       "      <td>10002489.0</td>\n",
       "      <td>03-06-2017</td>\n",
       "      <td>-211.75</td>\n",
       "      <td>2017-06-03</td>\n",
       "      <td>100096.0</td>\n",
       "      <td>NaN</td>\n",
       "      <td>NaN</td>\n",
       "      <td>Kiwi Lox</td>\n",
       "      <td>1000.0</td>\n",
       "      <td>0.00</td>\n",
       "      <td>...</td>\n",
       "      <td>0.0</td>\n",
       "      <td>211.75</td>\n",
       "      <td>211.750000</td>\n",
       "      <td>1.0</td>\n",
       "      <td>160.0</td>\n",
       "      <td>EA</td>\n",
       "      <td>NaN</td>\n",
       "      <td>NaN</td>\n",
       "      <td>NaN</td>\n",
       "      <td>NaN</td>\n",
       "    </tr>\n",
       "    <tr>\n",
       "      <th>4</th>\n",
       "      <td>10004516.0</td>\n",
       "      <td>27-05-2017</td>\n",
       "      <td>96627.94</td>\n",
       "      <td>2017-05-27</td>\n",
       "      <td>103341.0</td>\n",
       "      <td>P01</td>\n",
       "      <td>60776</td>\n",
       "      <td>High Top Sweet Onion</td>\n",
       "      <td>1000.0</td>\n",
       "      <td>408.52</td>\n",
       "      <td>...</td>\n",
       "      <td>0.0</td>\n",
       "      <td>89248.66</td>\n",
       "      <td>196.150901</td>\n",
       "      <td>455.0</td>\n",
       "      <td>124.0</td>\n",
       "      <td>SE</td>\n",
       "      <td>NaN</td>\n",
       "      <td>SE = some SI unit like kgs or gallons</td>\n",
       "      <td>NaN</td>\n",
       "      <td>NaN</td>\n",
       "    </tr>\n",
       "  </tbody>\n",
       "</table>\n",
       "<p>5 rows × 24 columns</p>\n",
       "</div>"
      ],
      "text/plain": [
       "      CustKey     DateKey  Discount Amount Invoice Date  Invoice Number  \\\n",
       "0  10000481.0  30-04-2017          -237.91   2017-04-30        100012.0   \n",
       "1  10002220.0  14-07-2017           368.79   2017-07-14        100233.0   \n",
       "2  10002220.0  17-10-2017           109.73   2017-10-17        116165.0   \n",
       "3  10002489.0  03-06-2017          -211.75   2017-06-03        100096.0   \n",
       "4  10004516.0  27-05-2017         96627.94   2017-05-27        103341.0   \n",
       "\n",
       "  Item Class Item Number                             Item  Line Number  \\\n",
       "0        NaN         NaN                 Urban Large Eggs       2000.0   \n",
       "1        P01       20910               Moms Sliced Turkey       1000.0   \n",
       "2        P01       38076  Cutting Edge Foot-Long Hot Dogs       1000.0   \n",
       "3        NaN         NaN                         Kiwi Lox       1000.0   \n",
       "4        P01       60776             High Top Sweet Onion       1000.0   \n",
       "\n",
       "   List Price  ...  Sales Cost Amount Sales Margin Amount  Sales Price  \\\n",
       "0        0.00  ...                0.0              237.91   237.910000   \n",
       "1      824.96  ...                0.0              456.17   456.170000   \n",
       "2      548.66  ...                0.0              438.93   438.930000   \n",
       "3        0.00  ...                0.0              211.75   211.750000   \n",
       "4      408.52  ...                0.0            89248.66   196.150901   \n",
       "\n",
       "   Sales Quantity  Sales Rep  U/M  Unnamed: 20  \\\n",
       "0             1.0      184.0   EA          NaN   \n",
       "1             1.0      127.0   EA          NaN   \n",
       "2             1.0      127.0   EA          NaN   \n",
       "3             1.0      160.0   EA          NaN   \n",
       "4           455.0      124.0   SE          NaN   \n",
       "\n",
       "                             Unnamed: 21  Unnamed: 22 Unnamed: 23  \n",
       "0                  U/M = unit of measure          NaN         NaN  \n",
       "1                                    NaN          NaN         NaN  \n",
       "2                              EA = each          NaN         NaN  \n",
       "3                                    NaN          NaN         NaN  \n",
       "4  SE = some SI unit like kgs or gallons          NaN         NaN  \n",
       "\n",
       "[5 rows x 24 columns]"
      ]
     },
     "execution_count": 2,
     "metadata": {},
     "output_type": "execute_result"
    }
   ],
   "source": [
    "Salesdata = pd.read_csv('Salesdata.csv')\n",
    "Salesdata.head()"
   ]
  },
  {
   "cell_type": "markdown",
   "id": "8692b7e1-a10f-4309-9b6e-bc50d1e221f5",
   "metadata": {},
   "source": [
    "Total Number of columns and rows"
   ]
  },
  {
   "cell_type": "code",
   "execution_count": 3,
   "id": "292f69d2-c03d-470c-b3c0-9d84bac64c70",
   "metadata": {},
   "outputs": [
    {
     "data": {
      "text/plain": [
       "(65535, 24)"
      ]
     },
     "execution_count": 3,
     "metadata": {},
     "output_type": "execute_result"
    }
   ],
   "source": [
    "Salesdata.shape"
   ]
  },
  {
   "cell_type": "markdown",
   "id": "e144a683-148e-4906-83b3-bf0743f8f7af",
   "metadata": {},
   "source": [
    "Columns and datatype"
   ]
  },
  {
   "cell_type": "code",
   "execution_count": 4,
   "id": "31c0e5fb-011e-40d8-b9f3-13b58913ad8c",
   "metadata": {},
   "outputs": [
    {
     "name": "stdout",
     "output_type": "stream",
     "text": [
      "<class 'pandas.core.frame.DataFrame'>\n",
      "RangeIndex: 65535 entries, 0 to 65534\n",
      "Data columns (total 24 columns):\n",
      " #   Column                            Non-Null Count  Dtype  \n",
      "---  ------                            --------------  -----  \n",
      " 0   CustKey                           65282 non-null  float64\n",
      " 1   DateKey                           65282 non-null  object \n",
      " 2   Discount Amount                   65280 non-null  float64\n",
      " 3   Invoice Date                      65282 non-null  object \n",
      " 4   Invoice Number                    65282 non-null  float64\n",
      " 5   Item Class                        56993 non-null  object \n",
      " 6   Item Number                       65241 non-null  object \n",
      " 7   Item                              65282 non-null  object \n",
      " 8   Line Number                       65282 non-null  float64\n",
      " 9   List Price                        65282 non-null  float64\n",
      " 10  Order Number                      65282 non-null  float64\n",
      " 11  Promised Delivery Date            65282 non-null  object \n",
      " 12  Sales Amount                      65282 non-null  float64\n",
      " 13  Sales Amount Based on List Price  65282 non-null  float64\n",
      " 14  Sales Cost Amount                 65282 non-null  float64\n",
      " 15  Sales Margin Amount               65282 non-null  float64\n",
      " 16  Sales Price                       65281 non-null  float64\n",
      " 17  Sales Quantity                    65282 non-null  float64\n",
      " 18  Sales Rep                         65282 non-null  float64\n",
      " 19  U/M                               65282 non-null  object \n",
      " 20  Unnamed: 20                       0 non-null      float64\n",
      " 21  Unnamed: 21                       4 non-null      object \n",
      " 22  Unnamed: 22                       0 non-null      float64\n",
      " 23  Unnamed: 23                       0 non-null      float64\n",
      "dtypes: float64(16), object(8)\n",
      "memory usage: 12.0+ MB\n"
     ]
    }
   ],
   "source": [
    "Salesdata.info()"
   ]
  },
  {
   "cell_type": "markdown",
   "id": "5e6fe8ca-53cc-471c-b1b5-f73ef675f286",
   "metadata": {},
   "source": [
    "Select perticular columns."
   ]
  },
  {
   "cell_type": "code",
   "execution_count": 5,
   "id": "3d1a54e2-cfe2-4025-a041-17a0055b9ddf",
   "metadata": {},
   "outputs": [],
   "source": [
    "Salesdata = Salesdata[['CustKey','DateKey','Discount Amount','Invoice Date','Invoice Number','Item Number','Item','Line Number'\n",
    "                             ,'List Price','Order Number','Promised Delivery Date','Sales Amount','Sales Amount Based on List Price','Sales Cost Amount'\n",
    "                             ,'Sales Margin Amount','Sales Price','Sales Quantity','Sales Rep','U/M']]"
   ]
  },
  {
   "cell_type": "markdown",
   "id": "aa9ee4e1-7ea7-4699-b08e-b650f195ce95",
   "metadata": {},
   "source": [
    "Remove all null values."
   ]
  },
  {
   "cell_type": "code",
   "execution_count": 6,
   "id": "591cb64d-14df-466c-ba06-d13d39faeaca",
   "metadata": {},
   "outputs": [],
   "source": [
    "\n",
    "Salesdata.dropna(subset=['Discount Amount','Sales Price', 'Item Number'],inplace=True)"
   ]
  },
  {
   "cell_type": "markdown",
   "id": "159d7e39-4d28-4dfc-b25a-f76aefa7314d",
   "metadata": {},
   "source": [
    "Check the data set and null values."
   ]
  },
  {
   "cell_type": "code",
   "execution_count": 7,
   "id": "4bf9424a-127a-4566-904f-35c332a0c779",
   "metadata": {},
   "outputs": [
    {
     "name": "stdout",
     "output_type": "stream",
     "text": [
      "<class 'pandas.core.frame.DataFrame'>\n",
      "Int64Index: 65241 entries, 1 to 65281\n",
      "Data columns (total 19 columns):\n",
      " #   Column                            Non-Null Count  Dtype  \n",
      "---  ------                            --------------  -----  \n",
      " 0   CustKey                           65241 non-null  float64\n",
      " 1   DateKey                           65241 non-null  object \n",
      " 2   Discount Amount                   65241 non-null  float64\n",
      " 3   Invoice Date                      65241 non-null  object \n",
      " 4   Invoice Number                    65241 non-null  float64\n",
      " 5   Item Number                       65241 non-null  object \n",
      " 6   Item                              65241 non-null  object \n",
      " 7   Line Number                       65241 non-null  float64\n",
      " 8   List Price                        65241 non-null  float64\n",
      " 9   Order Number                      65241 non-null  float64\n",
      " 10  Promised Delivery Date            65241 non-null  object \n",
      " 11  Sales Amount                      65241 non-null  float64\n",
      " 12  Sales Amount Based on List Price  65241 non-null  float64\n",
      " 13  Sales Cost Amount                 65241 non-null  float64\n",
      " 14  Sales Margin Amount               65241 non-null  float64\n",
      " 15  Sales Price                       65241 non-null  float64\n",
      " 16  Sales Quantity                    65241 non-null  float64\n",
      " 17  Sales Rep                         65241 non-null  float64\n",
      " 18  U/M                               65241 non-null  object \n",
      "dtypes: float64(13), object(6)\n",
      "memory usage: 10.0+ MB\n"
     ]
    }
   ],
   "source": [
    "Salesdata.info()"
   ]
  },
  {
   "cell_type": "code",
   "execution_count": 8,
   "id": "e105d374-1691-4cc2-b938-d73757514339",
   "metadata": {},
   "outputs": [
    {
     "data": {
      "text/plain": [
       "CustKey                             0\n",
       "DateKey                             0\n",
       "Discount Amount                     0\n",
       "Invoice Date                        0\n",
       "Invoice Number                      0\n",
       "Item Number                         0\n",
       "Item                                0\n",
       "Line Number                         0\n",
       "List Price                          0\n",
       "Order Number                        0\n",
       "Promised Delivery Date              0\n",
       "Sales Amount                        0\n",
       "Sales Amount Based on List Price    0\n",
       "Sales Cost Amount                   0\n",
       "Sales Margin Amount                 0\n",
       "Sales Price                         0\n",
       "Sales Quantity                      0\n",
       "Sales Rep                           0\n",
       "U/M                                 0\n",
       "dtype: int64"
      ]
     },
     "execution_count": 8,
     "metadata": {},
     "output_type": "execute_result"
    }
   ],
   "source": [
    "Salesdata.isnull().sum()"
   ]
  },
  {
   "cell_type": "code",
   "execution_count": 9,
   "id": "b9203ea1-bc85-493e-9093-9f645ae76c07",
   "metadata": {},
   "outputs": [
    {
     "data": {
      "text/plain": [
       "(65241, 19)"
      ]
     },
     "execution_count": 9,
     "metadata": {},
     "output_type": "execute_result"
    }
   ],
   "source": [
    "Salesdata.shape"
   ]
  },
  {
   "cell_type": "markdown",
   "id": "293d4505-f95a-4e52-80ef-561a97bc7515",
   "metadata": {},
   "source": [
    "Save modified and clean dataset in local storage."
   ]
  },
  {
   "cell_type": "code",
   "execution_count": 10,
   "id": "4b0a2a6b-e20a-41a8-b547-0da97cf954be",
   "metadata": {},
   "outputs": [],
   "source": [
    "Salesdata.to_csv('Cleandata.csv')"
   ]
  },
  {
   "cell_type": "code",
   "execution_count": null,
   "id": "755d2884-9fa9-4d48-8b7f-9214fc5db794",
   "metadata": {},
   "outputs": [],
   "source": []
  }
 ],
 "metadata": {
  "kernelspec": {
   "display_name": "Python 3 (ipykernel)",
   "language": "python",
   "name": "python3"
  },
  "language_info": {
   "codemirror_mode": {
    "name": "ipython",
    "version": 3
   },
   "file_extension": ".py",
   "mimetype": "text/x-python",
   "name": "python",
   "nbconvert_exporter": "python",
   "pygments_lexer": "ipython3",
   "version": "3.10.4"
  }
 },
 "nbformat": 4,
 "nbformat_minor": 5
}
